{
  "cells": [
    {
      "cell_type": "code",
      "execution_count": null,
      "metadata": {
        "cellView": "form",
        "id": "8kAqKkITtUc4"
      },
      "outputs": [],
      "source": [
        "#@title License\n",
        "# Copyright 2019 BDL Benchmarks Authors. All Rights Reserved.\n",
        "#\n",
        "# Licensed under the Apache License, Version 2.0 (the \"License\");\n",
        "# you may not use this file except in compliance with the License.\n",
        "# You may obtain a copy of the License at\n",
        "#\n",
        "#    http://www.apache.org/licenses/LICENSE-2.0\n",
        "#\n",
        "# Unless required by applicable law or agreed to in writing, software\n",
        "# distributed under the License is distributed on an \"AS IS\" BASIS,\n",
        "# WITHOUT WARRANTIES OR CONDITIONS OF ANY KIND, either express or  implied.\n",
        "# See the License for the specific language governing permissions and\n",
        "# limitations under the License.\n",
        "# ============================================================================"
      ]
    },
    {
      "cell_type": "markdown",
      "metadata": {
        "id": "HPGNWFrStdUh"
      },
      "source": [
        "# Bayesian Deep Learning Benchmarks\n",
        "\n",
        "**Bayesian Deep Learning Benchmarks** (BDL Benchmarks or `bdlb` for short), is an open-source framework that aims to bridge the gap between the design of deep probabilistic machine learning models and their application to real-world problems, hosted on [GitHub](https://github.com/OATML/bdl-benchmarks).\n",
        "\n",
        "<table class=\"tfo-notebook-buttons\" align=\"left\">\n",
        "  <td>\n",
        "    <a target=\"_blank\" href=\"https://colab.research.google.com/github/OATML/bdl-benchmarks/blob/alpha/notebooks/diabetic_retinopathy_diagnosis.ipynb\"><img src=\"https://www.tensorflow.org/images/colab_logo_32px.png\" />Run in Google Colab</a>\n",
        "  </td>\n",
        "  <td>\n",
        "    <a target=\"_blank\" href=\"https://github.com/OATML/bdl-benchmarks/blob/alpha/notebooks/diabetic_retinopathy_diagnosis.ipynb\"><img src=\"https://www.tensorflow.org/images/GitHub-Mark-32px.png\" />View source on GitHub</a>\n",
        "  </td>\n",
        "</table>"
      ]
    },
    {
      "cell_type": "code",
      "execution_count": 1,
      "metadata": {
        "colab": {
          "base_uri": "https://localhost:8080/"
        },
        "id": "tqDZ8aRjtbzx",
        "outputId": "864643bf-794d-465b-8702-c24b5410de89"
      },
      "outputs": [
        {
          "output_type": "stream",
          "name": "stdout",
          "text": [
            "  Preparing metadata (setup.py) ... \u001b[?25l\u001b[?25hdone\n",
            "  Building wheel for bdlb (setup.py) ... \u001b[?25l\u001b[?25hdone\n"
          ]
        }
      ],
      "source": [
        "#@title Dependencies & Prerequisites\n",
        "!pip install --quiet git+https://github.com/gabrielchaves7/bdl-benchmarks-2.git"
      ]
    },
    {
      "cell_type": "code",
      "execution_count": 2,
      "metadata": {
        "colab": {
          "base_uri": "https://localhost:8080/"
        },
        "id": "I6zWFOYjuWFf",
        "outputId": "0f8fa68c-59d9-48e9-9bdb-0cd531255e81"
      },
      "outputs": [
        {
          "output_type": "stream",
          "name": "stdout",
          "text": [
            "SUCCESS: Found GPU: /device:GPU:0\n"
          ]
        }
      ],
      "source": [
        "#@title Imports\n",
        "\n",
        "from __future__ import absolute_import\n",
        "from __future__ import division\n",
        "from __future__ import print_function\n",
        "\n",
        "import os\n",
        "import functools\n",
        "\n",
        "import numpy as np\n",
        "import scipy.stats\n",
        "import tensorflow as tf\n",
        "tfk = tf.keras\n",
        "tfkl = tfk.layers\n",
        "import matplotlib.pyplot as plt\n",
        "\n",
        "if tf.test.gpu_device_name() != \"/device:GPU:0\":\n",
        "  raise OSError(\"GPU device not found\")\n",
        "else:\n",
        "  print(\"SUCCESS: Found GPU: {}\".format(tf.test.gpu_device_name()))\n",
        "\n",
        "import bdlb\n",
        "from bdlb.core.plotting import leaderboard\n",
        "from bdlb.core.constants import DIABETIC_RETINOPATHY_DIAGNOSIS_URL_MEDIUM\n",
        "from bdlb.core.constants import LEADERBOARD_DIR_URL"
      ]
    },
    {
      "cell_type": "code",
      "execution_count": 3,
      "metadata": {
        "id": "tHrQJxcKAO1T"
      },
      "outputs": [],
      "source": [
        "#@title Hyperparameters { display-mode: \"form\" }\n",
        "BATCH_SIZE = 3 #@param {type:\"integer\"}\n",
        "NUM_EPOCHS = 4 #@param {type:\"slider\", min:1, max:100, step:1}\n",
        "DROPOUT_RATE = 0.1 #@param {type:\"slider\", min:0, max:1.0, step:0.05}\n",
        "NUM_MCDROPOUT_SAMPLES = 3 #@param {type:\"integer\"}\n",
        "\n",
        "LEVEL = \"medium\" #@param [\"medium\"]\n",
        "\n",
        "input_shape = {\"medium\": (256, 256, 3),\n",
        "               \"realworld\": (512, 512, 3)}[LEVEL]\n",
        "learning_rate = 1e-3\n",
        "l2_reg = 5e-5"
      ]
    },
    {
      "cell_type": "code",
      "execution_count": 61,
      "metadata": {
        "id": "C9wxpm_t-hWX"
      },
      "outputs": [],
      "source": [
        "#@title Helper Functions\n",
        "\n",
        "def visualize_tfdataset(tfdataset, num_samples):\n",
        "  \"\"\"Visualizes `num_samples` from the `tfdataset`.\"\"\"\n",
        "\n",
        "  def to01(image):\n",
        "    \"\"\"Normalizes image to float [0, 1].\"\"\"\n",
        "    min_ = np.min(image)\n",
        "    max_ = np.max(image)\n",
        "    return (image - min_) / (max_ - min_)\n",
        "\n",
        "  for X, y in tfdataset.take(1):\n",
        "    images = X.numpy()\n",
        "    labels = y.numpy()\n",
        "    B, _, _ = images.shape\n",
        "    num_samples = min(num_samples, B)\n",
        "    fig, axes = plt.subplots(figsize=(2.0*num_samples, 2.0), ncols=num_samples)\n",
        "    for i in range(num_samples):\n",
        "      ax = axes[i]\n",
        "      ax.imshow(to01(images[i]))\n",
        "      ax.axis(\"off\")\n",
        "    fig.show()"
      ]
    },
    {
      "cell_type": "markdown",
      "metadata": {
        "id": "BBe1ZqSMrRFt"
      },
      "source": [
        "### Benchmark API\n",
        "\n",
        "The benchmarks can be easily loaded using `bdlb.load(benchmark, level, data_dir, batch_size)`.\n",
        "All the data management (i.e. download, prepare, preprocess, load, batch and prefetch) is abstracted away from the user and is **compatible with any deep learning framework**!"
      ]
    },
    {
      "cell_type": "code",
      "execution_count": 60,
      "metadata": {
        "cellView": "both",
        "id": "QuAFiSca1Jwq"
      },
      "outputs": [],
      "source": [
        "import tensorflow as tf\n",
        "import tensorflow_datasets as tfds\n",
        "\n",
        "dataset_name = 'cifar10'\n",
        "(train_dataset, test_dataset), dataset_info = tfds.load(\n",
        "name=dataset_name,\n",
        "split=['train', 'test'],\n",
        "with_info=True,\n",
        "as_supervised=True\n",
        ")"
      ]
    },
    {
      "cell_type": "code",
      "execution_count": 62,
      "metadata": {
        "colab": {
          "base_uri": "https://localhost:8080/",
          "height": 191
        },
        "id": "oTfM0DD7swWX",
        "outputId": "29ec2cf9-2280-4606-a5e4-3704da3c5d84"
      },
      "outputs": [
        {
          "output_type": "display_data",
          "data": {
            "text/plain": [
              "<Figure size 600x200 with 3 Axes>"
            ],
            "image/png": "[encoded data removed]"
          },
          "metadata": {}
        }
      ],
      "source": [
        "#@title Visualize Data\n",
        "visualize_tfdataset(train_dataset, num_samples=3)"
      ]
    },
    {
      "cell_type": "markdown",
      "metadata": {
        "id": "K6BdSLZmsCNy"
      },
      "source": [
        "### Model Definition\n",
        "\n",
        "Implementations of tuned [baselines](https://github.com/OATML/bdl-benchmarks/tree/alpha/baselines/diabetic_retinopathy_diagnosis) are provided for each benchmark, as well as their [leaderboards](https://github.com/OATML/bdl-benchmarks/tree/alpha/leaderboard/diabetic_retinopathy_diagnosis).\n",
        "\n",
        "For this colab, we implement a naive 1-hidden layer feedforward neural network in [`TensorFlow 2.0`](https://www.tensorflow.org/beta/) to illustrate the workflow, using Monte Carlo Dropout for estimating the predictive entropy."
      ]
    },
    {
      "cell_type": "code",
      "execution_count": null,
      "metadata": {
        "cellView": "both",
        "colab": {
          "base_uri": "https://localhost:8080/",
          "height": 357
        },
        "id": "0GYQjCLH_qhh",
        "outputId": "a2156523-1340-4c27-d805-30bc2195b9bb"
      },
      "outputs": [
        {
          "name": "stdout",
          "output_type": "stream",
          "text": [
            "Model: \"sequential\"\n",
            "_________________________________________________________________\n",
            "Layer (type)                 Output Shape              Param #   \n",
            "=================================================================\n",
            "flatten (Flatten)            (None, 196608)            0         \n",
            "_________________________________________________________________\n",
            "dense (Dense)                (None, 32)                6291488   \n",
            "_________________________________________________________________\n",
            "activation (Activation)      (None, 32)                0         \n",
            "_________________________________________________________________\n",
            "dropout (Dropout)            (None, 32)                0         \n",
            "_________________________________________________________________\n",
            "dense_1 (Dense)              (None, 1)                 33        \n",
            "_________________________________________________________________\n",
            "activation_1 (Activation)    (None, 1)                 0         \n",
            "=================================================================\n",
            "Total params: 6,291,521\n",
            "Trainable params: 6,291,521\n",
            "Non-trainable params: 0\n",
            "_________________________________________________________________\n"
          ]
        }
      ],
      "source": [
        "classifier = tfk.Sequential([\n",
        "    tfkl.InputLayer(input_shape),\n",
        "    tfkl.Flatten(),\n",
        "    tfkl.Dense(units=32, kernel_regularizer=tfk.regularizers.l2(l2_reg)),\n",
        "    tfkl.Activation(\"relu\"),\n",
        "    tfkl.Dropout(DROPOUT_RATE),\n",
        "    tfkl.Dense(units=1, kernel_regularizer=tfk.regularizers.l2(l2_reg)),\n",
        "    tfkl.Activation(\"sigmoid\"),\n",
        "])\n",
        "classifier.compile(loss=dtask.loss(),\n",
        "                   optimizer=tfk.optimizers.Adam(learning_rate),\n",
        "                   metrics=dtask.metrics())\n",
        "classifier.summary()"
      ]
    },
    {
      "cell_type": "code",
      "execution_count": null,
      "metadata": {
        "cellView": "form",
        "colab": {
          "base_uri": "https://localhost:8080/",
          "height": 445
        },
        "id": "tFEW2FcvBq0V",
        "outputId": "b86bf5ab-cbeb-445b-b69f-49868c885c41"
      },
      "outputs": [
        {
          "name": "stdout",
          "output_type": "stream",
          "text": [
            "Epoch 1/10\n",
            "WARNING:tensorflow:From /scratch-ssd/oatml/miniconda3/envs/bdlb/lib/python3.6/site-packages/tensorflow/python/ops/math_grad.py:1250: add_dispatch_support.<locals>.wrapper (from tensorflow.python.ops.array_ops) is deprecated and will be removed in a future version.\n",
            "Instructions for updating:\n",
            "Use tf.where in 2.0, which has the same broadcast rule as np.where\n"
          ]
        },
        {
          "name": "stderr",
          "output_type": "stream",
          "text": [
            "WARNING:tensorflow:From /scratch-ssd/oatml/miniconda3/envs/bdlb/lib/python3.6/site-packages/tensorflow/python/ops/math_grad.py:1250: add_dispatch_support.<locals>.wrapper (from tensorflow.python.ops.array_ops) is deprecated and will be removed in a future version.\n",
            "Instructions for updating:\n",
            "Use tf.where in 2.0, which has the same broadcast rule as np.where\n"
          ]
        },
        {
          "name": "stdout",
          "output_type": "stream",
          "text": [
            "5/5 [==============================] - 1s 281ms/step - loss: 8.2383 - binary_accuracy: 0.4250 - auc: 0.4679 - val_loss: 12.4631 - val_binary_accuracy: 0.1875 - val_auc: 0.5000\n",
            "Epoch 2/10\n",
            "5/5 [==============================] - 0s 86ms/step - loss: 12.6555 - binary_accuracy: 0.1750 - auc: 0.5000 - val_loss: 12.4649 - val_binary_accuracy: 0.1875 - val_auc: 0.5000\n",
            "Epoch 3/10\n",
            "5/5 [==============================] - 0s 78ms/step - loss: 12.6571 - binary_accuracy: 0.1750 - auc: 0.5000 - val_loss: 12.2745 - val_binary_accuracy: 0.2000 - val_auc: 0.5000\n",
            "Epoch 4/10\n",
            "5/5 [==============================] - 0s 81ms/step - loss: 12.0833 - binary_accuracy: 0.2125 - auc: 0.5000 - val_loss: 12.2755 - val_binary_accuracy: 0.2000 - val_auc: 0.5000\n",
            "Epoch 5/10\n",
            "5/5 [==============================] - 0s 86ms/step - loss: 12.2758 - binary_accuracy: 0.2000 - auc: 0.5000 - val_loss: 12.2762 - val_binary_accuracy: 0.2000 - val_auc: 0.5000\n",
            "Epoch 6/10\n",
            "5/5 [==============================] - 0s 78ms/step - loss: 12.6597 - binary_accuracy: 0.1750 - auc: 0.5000 - val_loss: 12.4683 - val_binary_accuracy: 0.1875 - val_auc: 0.5000\n",
            "Epoch 7/10\n",
            "5/5 [==============================] - 0s 82ms/step - loss: 12.6601 - binary_accuracy: 0.1750 - auc: 0.5000 - val_loss: 12.4686 - val_binary_accuracy: 0.1875 - val_auc: 0.5000\n",
            "Epoch 8/10\n",
            "5/5 [==============================] - 0s 84ms/step - loss: 10.7437 - binary_accuracy: 0.3000 - auc: 0.5000 - val_loss: 12.2771 - val_binary_accuracy: 0.2000 - val_auc: 0.5000\n",
            "Epoch 9/10\n",
            "5/5 [==============================] - 0s 75ms/step - loss: 13.2355 - binary_accuracy: 0.1375 - auc: 0.5000 - val_loss: 12.2772 - val_binary_accuracy: 0.2000 - val_auc: 0.5000\n",
            "Epoch 10/10\n",
            "5/5 [==============================] - 0s 80ms/step - loss: 13.0439 - binary_accuracy: 0.1500 - auc: 0.5000 - val_loss: 12.2772 - val_binary_accuracy: 0.2000 - val_auc: 0.5000\n"
          ]
        }
      ],
      "source": [
        "#@title Train Model\n",
        "history = classifier.fit(\n",
        "    ds_train,\n",
        "    epochs=NUM_EPOCHS,\n",
        "    steps_per_epoch=5,\n",
        "    validation_data=ds_validation,\n",
        "    validation_steps=5,\n",
        "    class_weight=dtask.class_weight(),\n",
        ")"
      ]
    },
    {
      "cell_type": "code",
      "execution_count": null,
      "metadata": {
        "id": "CV4IsR9qtWNJ"
      },
      "outputs": [],
      "source": [
        "def predict(x):\n",
        "  \"\"\"Monte Carlo dropout uncertainty estimator.\n",
        "\n",
        "  Args:\n",
        "    x: `numpy.ndarray`, datapoints from input space,\n",
        "      with shape [B, H, W, 3], where B the batch size and\n",
        "      H, W the input images height and width accordingly.\n",
        "\n",
        "  Returns:\n",
        "    mean: `numpy.ndarray`, predictive mean, with shape [B].\n",
        "    uncertainty: `numpy.ndarray`, ncertainty in prediction,\n",
        "      with shape [B].\n",
        "  \"\"\"\n",
        "  # Get shapes of data\n",
        "  B, _, _, _ = x.shape\n",
        "\n",
        "  # Monte Carlo samples from different dropout mask at test time\n",
        "  mc_samples = np.asarray(\n",
        "      [classifier(x, training=True)\n",
        "       for _ in range(NUM_MCDROPOUT_SAMPLES)]).reshape(-1, B)\n",
        "\n",
        "  # Bernoulli output distribution\n",
        "  dist = scipy.stats.bernoulli(mc_samples.mean(axis=0))\n",
        "\n",
        "  # Predictive mean calculation\n",
        "  mean = dist.mean()\n",
        "\n",
        "  # Use predictive entropy for uncertainty\n",
        "  uncertainty = dist.entropy()\n",
        "\n",
        "  return mean, uncertainty"
      ]
    },
    {
      "cell_type": "markdown",
      "metadata": {
        "id": "pcprhAdbA75g"
      },
      "source": [
        "### Evaluate Model\n",
        "\n",
        "Machine learning researchers often evaluate their predictions directly on the whole test set.\n",
        "But, in fact, in real-world settings we have additional choices available, like asking for more information when we are uncertain.\n",
        "Because of the importance of accurate diagnosis, it would be unreasonable _not_ to ask for further scans of the most ambiguous cases.\n",
        "Moreover, in this dataset, many images feature camera artefacts that distort results.\n",
        "In these cases, it is critically important that a model is able to tell when the information provided to it is not sufficiently reliable to classify the patient.\n",
        "Just like real medical professionals, any diagnostic algorithm should be able to flag cases that require more investigation by medical experts.\n",
        "\n",
        "<p align=\"center\">\n",
        "<img src=\"http://www.cs.ox.ac.uk/people/angelos.filos/assets/bdl-benchmarks/diagnosis.png\" >\n",
        "</p>\n",
        "\n",
        "This task is illustrated in the figure above, where a threshold, τ, is used to flag cases as certain and uncertain, with uncertain cases referred to an expert. Alternatively, the uncertainty estimates could be used to come up with a priority list, which could be matched to the available resources of a hospital, rather than waste diagnostic resources on patients for whom the diagnosis is clear cut.\n",
        "\n",
        "In order to simulate this process of referring the uncertain cases to experts and relying on the model's predictions for cases it is certain of, we assess the techniques by their diagnostic accuracy and area under receiver-operating-characteristic (ROC) curve, as a function of the\n",
        "referral rate. We expect the models with well-calibrated uncertainty to refer their least confident predictions to experts,\n",
        "improving their performance as the number of referrals increases.\n",
        "\n",
        "The accuracy of the binary classifier is defined as the ratio of correctly classified data-points over the size of the population.\n",
        "The receiver-operating-characteristic (ROC) curve illustrates\n",
        "the diagnostic ability of a binary classifier system as its discrimination threshold is varied.\n",
        "It is created by plotting the true positive rate (a.k.a. sensitivity) against the false positive rate (a.k.a. 1 - sensitivity).\n",
        "The quality of such a ROC curve can be summarized by its area under the curve (AUC), which varies between 0.5 (chance level) and 1.0 (best possible value)."
      ]
    },
    {
      "cell_type": "code",
      "execution_count": null,
      "metadata": {
        "colab": {
          "base_uri": "https://localhost:8080/",
          "height": 594
        },
        "id": "uz0mbQTtqfun",
        "outputId": "a209e31e-2ed9-41d0-8601-ca70de2074ac"
      },
      "outputs": [
        {
          "name": "stderr",
          "output_type": "stream",
          "text": [
            "10it [00:01,  8.91it/s]\n"
          ]
        },
        {
          "data": {
            "image/png": "[encoded data removed]",
            "text/plain": [
              "<Figure size 432x288 with 1 Axes>"
            ]
          },
          "metadata": {
            "needs_background": "light"
          },
          "output_type": "display_data"
        },
        {
          "data": {
            "image/png": "[encoded data removed]",
            "text/plain": [
              "<Figure size 432x288 with 1 Axes>"
            ]
          },
          "metadata": {
            "needs_background": "light"
          },
          "output_type": "display_data"
        }
      ],
      "source": [
        "results = dtask.evaluate(predict,\n",
        "                         dataset=ds_test.take(10),\n",
        "                         name=\"naive_method\")\n",
        "leaderboard(\"diabetic_retinopathy_diagnosis\",\n",
        "            results,\n",
        "            leaderboard_dir=\"leaderboard\")"
      ]
    },
    {
      "cell_type": "markdown",
      "metadata": {
        "id": "ewIGzk-N5YM2"
      },
      "source": [
        "| Method              | AUC<br>(50% data retained)  | Accuracy<br>(50% data retained) | AUC<br>(100% data retained) | Accuracy<br>(100% data retained) |\n",
        "| ------------------- | :-------------------------: | :-----------------------------: | :-------------------------: | :-------------------------------: |\n",
        "| Ensemble MC Dropout | 88.1 ± 1.2                  | 92.4 ± 0.9                      | 82.5 ± 1.1                  | 85.3 ± 1.0                        |\n",
        "| MC Dropout          | 87.8 ± 1.1                  | 91.3 ± 0.7                      | 82.1 ± 0.9                  | 84.5 ± 0.9                        |\n",
        "| Deep Ensembles      | 87.2 ± 0.9                  | 89.9 ± 0.9                      | 81.8 ± 1.1                  | 84.6 ± 0.7                        |\n",
        "| Mean-field VI       | 86.6 ± 1.1                  | 88.1 ± 1.1                      | 82.1 ± 1.2                  | 84.3 ± 0.7                        |\n",
        "| Deterministic       | 84.9 ± 1.1                  | 86.1 ± 0.6                      | 82.0 ± 1.0                  | 84.2 ± 0.6                        |\n",
        "| Random              | 81.8 ± 1.2                  | 84.8 ± 0.9                      | 82.0 ± 0.9                  | 84.2 ± 0.5                        |"
      ]
    }
  ],
  "metadata": {
    "accelerator": "GPU",
    "colab": {
      "name": "Copy of bdlb.ipynb",
      "provenance": []
    },
    "kernelspec": {
      "display_name": "Python 3",
      "language": "python",
      "name": "python3"
    },
    "language_info": {
      "codemirror_mode": {
        "name": "ipython",
        "version": 3
      },
      "file_extension": ".py",
      "mimetype": "text/x-python",
      "name": "python",
      "nbconvert_exporter": "python",
      "pygments_lexer": "ipython3",
      "version": "3.6.9"
    }
  },
  "nbformat": 4,
  "nbformat_minor": 0
}